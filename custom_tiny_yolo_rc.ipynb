{
  "nbformat": 4,
  "nbformat_minor": 0,
  "metadata": {
    "colab": {
      "name": "custom tiny_yolo_rc",
      "private_outputs": true,
      "provenance": [],
      "collapsed_sections": [],
      "authorship_tag": "ABX9TyMZ1wuKY3rjDZ8LU20+PVYs",
      "include_colab_link": true
    },
    "kernelspec": {
      "name": "python3",
      "display_name": "Python 3"
    },
    "language_info": {
      "name": "python"
    }
  },
  "cells": [
    {
      "cell_type": "markdown",
      "metadata": {
        "id": "view-in-github",
        "colab_type": "text"
      },
      "source": [
        "<a href=\"https://colab.research.google.com/github/sb2539/rc_car_tiny-yolov3/blob/main/custom_tiny_yolo_rc.ipynb\" target=\"_parent\"><img src=\"https://colab.research.google.com/assets/colab-badge.svg\" alt=\"Open In Colab\"/></a>"
      ]
    },
    {
      "cell_type": "markdown",
      "metadata": {
        "id": "rSBzUL4Ebo8a"
      },
      "source": [
        "#1. Mount Drive"
      ]
    },
    {
      "cell_type": "code",
      "metadata": {
        "id": "o--7btrwbhZH"
      },
      "source": [
        "from google.colab import drive\n",
        "drive.mount('/gdrive')"
      ],
      "execution_count": null,
      "outputs": []
    },
    {
      "cell_type": "code",
      "metadata": {
        "id": "scxUD6NZbr4U"
      },
      "source": [
        "!ls -al '/gdrive/MyDrive/darknet/tinyrc'"
      ],
      "execution_count": null,
      "outputs": []
    },
    {
      "cell_type": "code",
      "metadata": {
        "id": "eqFfEe5lb42J"
      },
      "source": [
        "import os\n",
        "print(os.path.abspath(os.curdir))"
      ],
      "execution_count": null,
      "outputs": []
    },
    {
      "cell_type": "code",
      "metadata": {
        "id": "KB4bN8zCcBct"
      },
      "source": [
        "COLAB_DARKNET_PATH = '/gdrive/MyDrive/darknet'\n",
        "\n",
        "DATA_PATH = '/tinyrc'\n",
        "YOLO_IMAGE_PATH = COLAB_DARKNET_PATH + DATA_PATH\n",
        "YOLO_FORMAT_PATH = COLAB_DARKNET_PATH + DATA_PATH"
      ],
      "execution_count": null,
      "outputs": []
    },
    {
      "cell_type": "code",
      "metadata": {
        "id": "jWM-6I5scTrh"
      },
      "source": [
        "class_count = 0\n",
        "test_percentage = 0.20\n",
        "paths = []"
      ],
      "execution_count": null,
      "outputs": []
    },
    {
      "cell_type": "code",
      "metadata": {
        "id": "KZZEahnIcb7m"
      },
      "source": [
        "with open(YOLO_FORMAT_PATH + '/' + 'classes.names', 'w') as names, \\\n",
        "    open(YOLO_FORMAT_PATH + '/' + 'classes.txt', 'r') as txt:\n",
        "    for line in txt:\n",
        "        names.write(line)\n",
        "        class_count += 1\n",
        "    print('[classes.names] is create')"
      ],
      "execution_count": null,
      "outputs": []
    },
    {
      "cell_type": "code",
      "metadata": {
        "id": "ssGVqA7MdWkE"
      },
      "source": [
        "with open(YOLO_FORMAT_PATH + '/' + 'tiny_rc_data.data', 'w') as data:\n",
        "    data.write('classes = ' + str(class_count) + '\\n')\n",
        "    data.write('train = ' + YOLO_FORMAT_PATH + '/' + 'train.txt' + '\\n')\n",
        "    data.write('valid = ' + YOLO_FORMAT_PATH + '/' + 'test.txt' + '\\n')\n",
        "    data.write('names = ' + YOLO_FORMAT_PATH + '/' + 'classes.names' + '\\n')\n",
        "    data.write('backup = backup')\n",
        "    print('[tiny_rc_data.data] is created')"
      ],
      "execution_count": null,
      "outputs": []
    },
    {
      "cell_type": "code",
      "metadata": {
        "id": "utVlh-37eiyB"
      },
      "source": [
        "os.chdir(YOLO_IMAGE_PATH)\n",
        "current_path = os.path.abspath(os.curdir)\n",
        "print(current_path)"
      ],
      "execution_count": null,
      "outputs": []
    },
    {
      "cell_type": "code",
      "metadata": {
        "id": "yLr1eRuheoX8"
      },
      "source": [
        "!ls -al"
      ],
      "execution_count": null,
      "outputs": []
    },
    {
      "cell_type": "code",
      "metadata": {
        "id": "OdjTVBErevWw"
      },
      "source": [
        "for current_dir, dirs, files in os.walk('.'):\n",
        "    #print(current_dir, dirs, files)\n",
        "    for f in files:\n",
        "        if f.endswith('.jpg'):\n",
        "            #print(f)\n",
        "            image_path = YOLO_IMAGE_PATH + '/' + f\n",
        "            #print(image_path)\n",
        "            paths.append(image_path + '\\n')"
      ],
      "execution_count": null,
      "outputs": []
    },
    {
      "cell_type": "code",
      "metadata": {
        "id": "TdRbwm9nf8Zm"
      },
      "source": [
        "paths"
      ],
      "execution_count": null,
      "outputs": []
    },
    {
      "cell_type": "code",
      "metadata": {
        "id": "80dwA5xVgEZu"
      },
      "source": [
        "num_test = int(len(paths) * test_percentage)\n",
        "print(num_test)"
      ],
      "execution_count": null,
      "outputs": []
    },
    {
      "cell_type": "code",
      "metadata": {
        "id": "7JIxPX5FgFEl"
      },
      "source": [
        "paths_test = paths[:num_test]\n",
        "paths_train = paths[num_test:]"
      ],
      "execution_count": null,
      "outputs": []
    },
    {
      "cell_type": "code",
      "metadata": {
        "id": "KvGBV9wgg6GV"
      },
      "source": [
        "with open(YOLO_FORMAT_PATH + '/' + 'train.txt', 'w') as train_txt:\n",
        "    for path in paths_train:\n",
        "        train_txt.write(path)\n",
        "    print('[train.txt] is created')"
      ],
      "execution_count": null,
      "outputs": []
    },
    {
      "cell_type": "code",
      "metadata": {
        "id": "ZMN3nFa1g7n2"
      },
      "source": [
        "with open(YOLO_FORMAT_PATH + '/' + 'test.txt', 'w') as test_txt:\n",
        "    for path in paths_test:\n",
        "        test_txt.write(path)\n",
        "    print('[test.txt]is created')"
      ],
      "execution_count": null,
      "outputs": []
    },
    {
      "cell_type": "code",
      "metadata": {
        "id": "_rbgQpvIiAKp"
      },
      "source": [
        "!ls -al"
      ],
      "execution_count": null,
      "outputs": []
    }
  ]
}